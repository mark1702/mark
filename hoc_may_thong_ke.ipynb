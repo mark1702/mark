{
  "cells": [
    {
      "cell_type": "markdown",
      "metadata": {
        "id": "view-in-github",
        "colab_type": "text"
      },
      "source": [
        "<a href=\"https://colab.research.google.com/github/mark1702/mark/blob/master/hoc_may_thong_ke.ipynb\" target=\"_parent\"><img src=\"https://colab.research.google.com/assets/colab-badge.svg\" alt=\"Open In Colab\"/></a>"
      ]
    },
    {
      "cell_type": "markdown",
      "metadata": {
        "id": "UWa9XAb2VANQ"
      },
      "source": [
        "# Import libraries"
      ]
    },
    {
      "cell_type": "code",
      "execution_count": null,
      "metadata": {
        "id": "0Mk138QLVANR"
      },
      "outputs": [],
      "source": [
        "import numpy as np\n",
        "import matplotlib.pyplot as plt"
      ]
    },
    {
      "cell_type": "markdown",
      "metadata": {
        "id": "YI5pd53vVANS"
      },
      "source": [
        "# Define the and function"
      ]
    },
    {
      "cell_type": "code",
      "execution_count": null,
      "metadata": {
        "id": "CpESpcknVANS"
      },
      "outputs": [],
      "source": [
        "X = np.array([[0, 0], [0, 1], [1, 0], [1, 1]])\n",
        "y = np.array([0, 0, 0, 1])"
      ]
    },
    {
      "cell_type": "code",
      "execution_count": null,
      "metadata": {
        "id": "3nzM4iK8VANS",
        "outputId": "6745a1cb-aff6-45a3-aeea-cd8de30d12bf"
      },
      "outputs": [
        {
          "name": "stdout",
          "output_type": "stream",
          "text": [
            "[0 0] 0\n",
            "[0 1] 0\n",
            "[1 0] 0\n",
            "[1 1] 1\n"
          ]
        }
      ],
      "source": [
        "for i in range(len(X)):\n",
        "    print(X[i], y[i])"
      ]
    },
    {
      "cell_type": "code",
      "execution_count": null,
      "metadata": {
        "id": "Nj-RIKIqVANT"
      },
      "outputs": [],
      "source": [
        "def add_noise_data(input_data, input_labels, n_points, mean, scale):\n",
        "    \"\"\"\n",
        "    Create a noise verstion of the input data\n",
        "\n",
        "    Params:\n",
        "        input_data: base input data\n",
        "        input_labels: base input labels\n",
        "        n_points: the number of needed points\n",
        "        mean, scale: the gaussian data\n",
        "    \"\"\"\n",
        "    raw_X = []\n",
        "    raw_labels = []\n",
        "\n",
        "    noise = np.random.normal(loc=mean, scale=scale, size=(n_points, 2))\n",
        "    for i in range(n_points):\n",
        "        k = np.random.randint(len(input_data))\n",
        "\n",
        "        raw_X.append([input_data[k][0] + noise[i][0],\n",
        "                      input_data[k][1] + noise[i][1]])\n",
        "\n",
        "        raw_labels.append(input_labels[k])\n",
        "\n",
        "    return np.array(raw_X), np.array(raw_labels)"
      ]
    },
    {
      "cell_type": "code",
      "execution_count": null,
      "metadata": {
        "id": "igJjMUOEVANT"
      },
      "outputs": [],
      "source": [
        "X_noise, y_noise = add_noise_data(X, y, 100, 0., 0.2)"
      ]
    },
    {
      "cell_type": "code",
      "execution_count": null,
      "metadata": {
        "id": "w1sIIs3GVANT"
      },
      "outputs": [],
      "source": [
        "def plot_clusters(_x, labels, std, list_labels = ['False', 'True']):\n",
        "    colors = ['#4EACC5', '#FF9C34']\n",
        "    y_m = labels\n",
        "    for k, col in zip(range(len(labels)), colors):\n",
        "        my_members = y_m == k\n",
        "        print(_x[my_members].shape)\n",
        "        plt.scatter(_x[my_members, 0], _x[my_members, 1], marker='o', label = list_labels[k])\n",
        "    plt.title('Noisy AND dataset with std = %.1f' % std)\n",
        "    plt.legend(loc='upper right')\n",
        "    plt.grid(True)\n",
        "    plt.show()"
      ]
    },
    {
      "cell_type": "code",
      "execution_count": null,
      "metadata": {
        "id": "M6bs9ibbVANT",
        "outputId": "8c3475fa-ab89-45a1-f62b-3d1f441c26ba"
      },
      "outputs": [
        {
          "name": "stdout",
          "output_type": "stream",
          "text": [
            "(76, 2)\n",
            "(24, 2)\n"
          ]
        },
        {
          "data": {
            "image/png": "[encoded data removed]",
            "text/plain": [
              "<Figure size 432x288 with 1 Axes>"
            ]
          },
          "metadata": {
            "needs_background": "light"
          },
          "output_type": "display_data"
        }
      ],
      "source": [
        "plot_clusters(X_noise, y_noise, 0.2, list_labels=['Label 0', 'Label 1'])"
      ]
    },
    {
      "cell_type": "code",
      "execution_count": null,
      "metadata": {
        "id": "3b_nTAfLVANT",
        "outputId": "5f622f8a-86f1-4d84-cecf-a3e0d82b6fef"
      },
      "outputs": [
        {
          "name": "stdout",
          "output_type": "stream",
          "text": [
            "(73, 2)\n",
            "(27, 2)\n"
          ]
        },
        {
          "data": {
            "image/png": "[encoded data removed]",
            "text/plain": [
              "<Figure size 432x288 with 1 Axes>"
            ]
          },
          "metadata": {
            "needs_background": "light"
          },
          "output_type": "display_data"
        }
      ],
      "source": [
        "X_high_noise, y_high_noise = add_noise_data(X, y, 100, 0., 0.5)\n",
        "plot_clusters(X_high_noise, y_high_noise, 0.5, list_labels=['Label 0', 'Label 1'])"
      ]
    },
    {
      "cell_type": "code",
      "execution_count": null,
      "metadata": {
        "id": "FjaorxuyVANU",
        "outputId": "e4203477-a732-4638-8451-d96bdb77df43"
      },
      "outputs": [
        {
          "name": "stdout",
          "output_type": "stream",
          "text": [
            "(0.9, -1.0) 0\n",
            "(-0.6, 0.8) 0\n",
            "(0.0, 0.3) 0\n",
            "(1.6, 0.9) 1\n",
            "(1.2, 0.9) 0\n",
            "(-0.1, -0.1) 0\n",
            "(1.4, 1.0) 0\n",
            "(0.0, -0.3) 0\n",
            "(0.7, 0.1) 0\n",
            "(1.5, 0.2) 0\n",
            "(0.4, 0.4) 0\n",
            "(0.6, 1.4) 1\n",
            "(-0.0, 2.0) 0\n",
            "(-0.5, -0.6) 0\n",
            "(0.1, -0.0) 0\n",
            "(0.3, 0.8) 0\n",
            "(-0.2, 0.3) 0\n",
            "(0.4, 0.8) 0\n",
            "(0.6, 0.4) 0\n",
            "(1.7, 1.1) 1\n"
          ]
        }
      ],
      "source": [
        "for i in range(20):\n",
        "    print('(%.1f, %.1f)' % (X_high_noise[i][0], X_high_noise[i][1]), y_high_noise[i])"
      ]
    },
    {
      "cell_type": "code",
      "execution_count": null,
      "metadata": {
        "id": "WADokSpDVANU"
      },
      "outputs": [],
      "source": []
    }
  ],
  "metadata": {
    "kernelspec": {
      "display_name": "Python 3 (ipykernel)",
      "language": "python",
      "name": "python3"
    },
    "language_info": {
      "codemirror_mode": {
        "name": "ipython",
        "version": 3
      },
      "file_extension": ".py",
      "mimetype": "text/x-python",
      "name": "python",
      "nbconvert_exporter": "python",
      "pygments_lexer": "ipython3",
      "version": "3.7.10"
    },
    "colab": {
      "provenance": [],
      "include_colab_link": true
    }
  },
  "nbformat": 4,
  "nbformat_minor": 0
}